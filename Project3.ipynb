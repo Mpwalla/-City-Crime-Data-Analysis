{
 "cells": [
  {
   "cell_type": "code",
   "execution_count": 1,
   "id": "618ca6b4",
   "metadata": {
    "scrolled": false
   },
   "outputs": [
    {
     "name": "stdout",
     "output_type": "stream",
     "text": [
      "Requirement already satisfied: dask in c:\\users\\con05838\\anaconda3\\lib\\site-packages (2022.7.0)\n",
      "Requirement already satisfied: packaging>=20.0 in c:\\users\\con05838\\anaconda3\\lib\\site-packages (from dask) (21.3)\n",
      "Requirement already satisfied: partd>=0.3.10 in c:\\users\\con05838\\anaconda3\\lib\\site-packages (from dask) (1.2.0)\n",
      "Requirement already satisfied: toolz>=0.8.2 in c:\\users\\con05838\\anaconda3\\lib\\site-packages (from dask) (0.11.2)\n",
      "Requirement already satisfied: fsspec>=0.6.0 in c:\\users\\con05838\\anaconda3\\lib\\site-packages (from dask) (2022.7.1)\n",
      "Requirement already satisfied: cloudpickle>=1.1.1 in c:\\users\\con05838\\anaconda3\\lib\\site-packages (from dask) (2.0.0)\n",
      "Requirement already satisfied: pyyaml>=5.3.1 in c:\\users\\con05838\\anaconda3\\lib\\site-packages (from dask) (6.0)\n",
      "Requirement already satisfied: pyparsing!=3.0.5,>=2.0.2 in c:\\users\\con05838\\anaconda3\\lib\\site-packages (from packaging>=20.0->dask) (3.0.9)\n",
      "Requirement already satisfied: locket in c:\\users\\con05838\\anaconda3\\lib\\site-packages (from partd>=0.3.10->dask) (1.0.0)\n",
      "Could not fetch URL https://pypi.org/simple/pip/: There was a problem confirming the ssl certificate: HTTPSConnectionPool(host='pypi.org', port=443): Max retries exceeded with url: /simple/pip/ (Caused by SSLError(SSLCertVerificationError(1, '[SSL: CERTIFICATE_VERIFY_FAILED] certificate verify failed: self signed certificate in certificate chain (_ssl.c:1129)'))) - skipping\n",
      "Note: you may need to restart the kernel to use updated packages.\n"
     ]
    },
    {
     "name": "stderr",
     "output_type": "stream",
     "text": [
      "WARNING: There was an error checking the latest version of pip.\n"
     ]
    }
   ],
   "source": [
    "pip install dask"
   ]
  },
  {
   "cell_type": "code",
   "execution_count": 45,
   "id": "76b0e66c",
   "metadata": {},
   "outputs": [],
   "source": [
    "import dask.dataframe as dd\n",
    "import pandas as pd\n",
    "import sqlite3\n",
    "import psycopg2\n",
    "import matplotlib.pyplot as plt\n",
    "from matplotlib import pyplot as plt1\n",
    "import seaborn as sns\n",
    "import numpy as np\n",
    "from datetime import datetime\n"
   ]
  },
  {
   "cell_type": "code",
   "execution_count": 46,
   "id": "9eb53047",
   "metadata": {},
   "outputs": [],
   "source": [
    "#creates a connection to the database\n",
    "con = sqlite3.connect('C:\\\\Users\\\\con05838\\\\OneDrive - ONE Gas INC\\\\Desktop\\\\DataScienceClass\\\\SQL\\\\SQLChallenges\\\\SQLCHallenges')"
   ]
  },
  {
   "cell_type": "code",
   "execution_count": 47,
   "id": "b7983e66",
   "metadata": {},
   "outputs": [],
   "source": [
    "df = pd.read_sql_query(\"SELECT \\\n",
    "DR_NO, \\\n",
    "Date_Rptd \\\n",
    "AREA, \\\n",
    "AREA_NAME, \\\n",
    "Crm_Cd, \\\n",
    "Crm_Cd_Desc, \\\n",
    "Vict_Age, \\\n",
    "Vict_Sex, \\\n",
    "Vict_Descent, \\\n",
    "Premis_Cd, \\\n",
    "Premis_Desc, \\\n",
    "Weapon_Used_Cd, \\\n",
    "Weapon_Desc, \\\n",
    "LAT, \\\n",
    "LON \\\n",
    "from Crime_Data_from cdf \" ,con)"
   ]
  },
  {
   "cell_type": "code",
   "execution_count": 62,
   "id": "29800c53",
   "metadata": {},
   "outputs": [
    {
     "data": {
      "text/plain": [
       "0"
      ]
     },
     "execution_count": 62,
     "metadata": {},
     "output_type": "execute_result"
    }
   ],
   "source": [
    "df.isnull().sum().sum()"
   ]
  },
  {
   "cell_type": "code",
   "execution_count": 49,
   "id": "15eead08",
   "metadata": {},
   "outputs": [
    {
     "data": {
      "text/plain": [
       "DR_NO               int64\n",
       "AREA               object\n",
       "AREA_NAME          object\n",
       "Crm_Cd              int64\n",
       "Crm_Cd_Desc        object\n",
       "Vict_Age            int64\n",
       "Vict_Sex           object\n",
       "Vict_Descent       object\n",
       "Premis_Cd          object\n",
       "Premis_Desc        object\n",
       "Weapon_Used_Cd     object\n",
       "Weapon_Desc        object\n",
       "LAT               float64\n",
       "LON               float64\n",
       "dtype: object"
      ]
     },
     "execution_count": 49,
     "metadata": {},
     "output_type": "execute_result"
    }
   ],
   "source": [
    "df.dtypes"
   ]
  },
  {
   "cell_type": "code",
   "execution_count": 50,
   "id": "f8a00624",
   "metadata": {},
   "outputs": [],
   "source": [
    "#creates a new column called time by converting AREA columns to a date time data type\n",
    "df['time']= df[[\"AREA\"]].apply(pd.to_datetime)"
   ]
  },
  {
   "cell_type": "code",
   "execution_count": 51,
   "id": "6a411387",
   "metadata": {},
   "outputs": [
    {
     "data": {
      "text/plain": [
       "DR_NO                      int64\n",
       "AREA                      object\n",
       "AREA_NAME                 object\n",
       "Crm_Cd                     int64\n",
       "Crm_Cd_Desc               object\n",
       "Vict_Age                   int64\n",
       "Vict_Sex                  object\n",
       "Vict_Descent              object\n",
       "Premis_Cd                 object\n",
       "Premis_Desc               object\n",
       "Weapon_Used_Cd            object\n",
       "Weapon_Desc               object\n",
       "LAT                      float64\n",
       "LON                      float64\n",
       "time              datetime64[ns]\n",
       "dtype: object"
      ]
     },
     "execution_count": 51,
     "metadata": {},
     "output_type": "execute_result"
    }
   ],
   "source": [
    "df.dtypes"
   ]
  },
  {
   "cell_type": "code",
   "execution_count": 52,
   "id": "dbf13502",
   "metadata": {},
   "outputs": [],
   "source": [
    "#drops the AREA column since we created a  converted data type column for AREA called time\n",
    "df1=df.drop(['AREA'], axis=1)"
   ]
  },
  {
   "cell_type": "code",
   "execution_count": 53,
   "id": "ca3ee295",
   "metadata": {},
   "outputs": [],
   "source": [
    "#creates a new columns and converts  Vict_Sex to fully spelled out gender names\n",
    "df1.loc[df['Vict_Sex'] == 'M', 'Gender'] = 'Male' \n",
    "df1.loc[df['Vict_Sex'] == 'F', 'Gender'] = 'Female' \n",
    "df1.loc[df['Vict_Sex'] == 'X', 'Gender'] = 'UNKNOWN' \n",
    "df1.loc[df['Vict_Sex'] == '', 'Gender'] = 'UNKNOWN'"
   ]
  },
  {
   "cell_type": "code",
   "execution_count": 54,
   "id": "879625f7",
   "metadata": {},
   "outputs": [
    {
     "data": {
      "text/html": [
       "<div>\n",
       "<style scoped>\n",
       "    .dataframe tbody tr th:only-of-type {\n",
       "        vertical-align: middle;\n",
       "    }\n",
       "\n",
       "    .dataframe tbody tr th {\n",
       "        vertical-align: top;\n",
       "    }\n",
       "\n",
       "    .dataframe thead th {\n",
       "        text-align: right;\n",
       "    }\n",
       "</style>\n",
       "<table border=\"1\" class=\"dataframe\">\n",
       "  <thead>\n",
       "    <tr style=\"text-align: right;\">\n",
       "      <th></th>\n",
       "      <th>DR_NO</th>\n",
       "      <th>AREA_NAME</th>\n",
       "      <th>Crm_Cd</th>\n",
       "      <th>Crm_Cd_Desc</th>\n",
       "      <th>Vict_Age</th>\n",
       "      <th>Vict_Descent</th>\n",
       "      <th>Premis_Cd</th>\n",
       "      <th>Premis_Desc</th>\n",
       "      <th>Weapon_Used_Cd</th>\n",
       "      <th>Weapon_Desc</th>\n",
       "      <th>LAT</th>\n",
       "      <th>LON</th>\n",
       "      <th>time</th>\n",
       "      <th>Gender</th>\n",
       "    </tr>\n",
       "  </thead>\n",
       "  <tbody>\n",
       "    <tr>\n",
       "      <th>0</th>\n",
       "      <td>10304468</td>\n",
       "      <td>Southwest</td>\n",
       "      <td>624</td>\n",
       "      <td>BATTERY - SIMPLE ASSAULT</td>\n",
       "      <td>36</td>\n",
       "      <td>B</td>\n",
       "      <td>501</td>\n",
       "      <td>SINGLE FAMILY DWELLING</td>\n",
       "      <td>400</td>\n",
       "      <td>STRONG-ARM (HANDS, FIST, FEET OR BODILY FORCE)</td>\n",
       "      <td>34.0141</td>\n",
       "      <td>-118.2978</td>\n",
       "      <td>2020-01-08</td>\n",
       "      <td>Female</td>\n",
       "    </tr>\n",
       "    <tr>\n",
       "      <th>1</th>\n",
       "      <td>190101086</td>\n",
       "      <td>Central</td>\n",
       "      <td>624</td>\n",
       "      <td>BATTERY - SIMPLE ASSAULT</td>\n",
       "      <td>25</td>\n",
       "      <td>H</td>\n",
       "      <td>102</td>\n",
       "      <td>SIDEWALK</td>\n",
       "      <td>500</td>\n",
       "      <td>UNKNOWN WEAPON/OTHER WEAPON</td>\n",
       "      <td>34.0459</td>\n",
       "      <td>-118.2545</td>\n",
       "      <td>2020-01-02</td>\n",
       "      <td>Male</td>\n",
       "    </tr>\n",
       "    <tr>\n",
       "      <th>2</th>\n",
       "      <td>200110444</td>\n",
       "      <td>Central</td>\n",
       "      <td>845</td>\n",
       "      <td>SEX OFFENDER REGISTRANT OUT OF COMPLIANCE</td>\n",
       "      <td>0</td>\n",
       "      <td>X</td>\n",
       "      <td>726</td>\n",
       "      <td>POLICE FACILITY</td>\n",
       "      <td></td>\n",
       "      <td></td>\n",
       "      <td>34.0448</td>\n",
       "      <td>-118.2474</td>\n",
       "      <td>2020-04-14</td>\n",
       "      <td>UNKNOWN</td>\n",
       "    </tr>\n",
       "    <tr>\n",
       "      <th>3</th>\n",
       "      <td>191501505</td>\n",
       "      <td>N Hollywood</td>\n",
       "      <td>745</td>\n",
       "      <td>VANDALISM - MISDEAMEANOR ($399 OR UNDER)</td>\n",
       "      <td>76</td>\n",
       "      <td>W</td>\n",
       "      <td>502</td>\n",
       "      <td>MULTI-UNIT DWELLING (APARTMENT, DUPLEX, ETC)</td>\n",
       "      <td></td>\n",
       "      <td></td>\n",
       "      <td>34.1685</td>\n",
       "      <td>-118.4019</td>\n",
       "      <td>2020-01-01</td>\n",
       "      <td>Female</td>\n",
       "    </tr>\n",
       "    <tr>\n",
       "      <th>4</th>\n",
       "      <td>191921269</td>\n",
       "      <td>Mission</td>\n",
       "      <td>740</td>\n",
       "      <td>VANDALISM - FELONY ($400 &amp; OVER, ALL CHURCH VA...</td>\n",
       "      <td>31</td>\n",
       "      <td>X</td>\n",
       "      <td>409</td>\n",
       "      <td>BEAUTY SUPPLY STORE</td>\n",
       "      <td></td>\n",
       "      <td></td>\n",
       "      <td>34.2198</td>\n",
       "      <td>-118.4468</td>\n",
       "      <td>2020-01-01</td>\n",
       "      <td>UNKNOWN</td>\n",
       "    </tr>\n",
       "    <tr>\n",
       "      <th>...</th>\n",
       "      <td>...</td>\n",
       "      <td>...</td>\n",
       "      <td>...</td>\n",
       "      <td>...</td>\n",
       "      <td>...</td>\n",
       "      <td>...</td>\n",
       "      <td>...</td>\n",
       "      <td>...</td>\n",
       "      <td>...</td>\n",
       "      <td>...</td>\n",
       "      <td>...</td>\n",
       "      <td>...</td>\n",
       "      <td>...</td>\n",
       "      <td>...</td>\n",
       "    </tr>\n",
       "    <tr>\n",
       "      <th>668876</th>\n",
       "      <td>231405429</td>\n",
       "      <td>Pacific</td>\n",
       "      <td>341</td>\n",
       "      <td>THEFT-GRAND ($950.01 &amp; OVER)EXCPT,GUNS,FOWL,LI...</td>\n",
       "      <td>0</td>\n",
       "      <td>X</td>\n",
       "      <td>402</td>\n",
       "      <td>MARKET</td>\n",
       "      <td></td>\n",
       "      <td></td>\n",
       "      <td>33.9846</td>\n",
       "      <td>-118.4428</td>\n",
       "      <td>2023-02-05</td>\n",
       "      <td>UNKNOWN</td>\n",
       "    </tr>\n",
       "    <tr>\n",
       "      <th>668877</th>\n",
       "      <td>231104474</td>\n",
       "      <td>Northeast</td>\n",
       "      <td>440</td>\n",
       "      <td>THEFT PLAIN - PETTY ($950 &amp; UNDER)</td>\n",
       "      <td>42</td>\n",
       "      <td>W</td>\n",
       "      <td>101</td>\n",
       "      <td>STREET</td>\n",
       "      <td></td>\n",
       "      <td></td>\n",
       "      <td>34.1214</td>\n",
       "      <td>-118.1915</td>\n",
       "      <td>2023-01-12</td>\n",
       "      <td>Male</td>\n",
       "    </tr>\n",
       "    <tr>\n",
       "      <th>668878</th>\n",
       "      <td>230804266</td>\n",
       "      <td>West LA</td>\n",
       "      <td>341</td>\n",
       "      <td>THEFT-GRAND ($950.01 &amp; OVER)EXCPT,GUNS,FOWL,LI...</td>\n",
       "      <td>48</td>\n",
       "      <td>O</td>\n",
       "      <td>717</td>\n",
       "      <td>HEALTH SPA/GYM</td>\n",
       "      <td></td>\n",
       "      <td></td>\n",
       "      <td>34.0611</td>\n",
       "      <td>-118.4184</td>\n",
       "      <td>2023-01-08</td>\n",
       "      <td>Male</td>\n",
       "    </tr>\n",
       "    <tr>\n",
       "      <th>668879</th>\n",
       "      <td>230107318</td>\n",
       "      <td>Central</td>\n",
       "      <td>624</td>\n",
       "      <td>BATTERY - SIMPLE ASSAULT</td>\n",
       "      <td>58</td>\n",
       "      <td>W</td>\n",
       "      <td>502</td>\n",
       "      <td>MULTI-UNIT DWELLING (APARTMENT, DUPLEX, ETC)</td>\n",
       "      <td>400</td>\n",
       "      <td>STRONG-ARM (HANDS, FIST, FEET OR BODILY FORCE)</td>\n",
       "      <td>34.0453</td>\n",
       "      <td>-118.2499</td>\n",
       "      <td>2023-02-19</td>\n",
       "      <td>Female</td>\n",
       "    </tr>\n",
       "    <tr>\n",
       "      <th>668880</th>\n",
       "      <td>231604807</td>\n",
       "      <td>Foothill</td>\n",
       "      <td>740</td>\n",
       "      <td>VANDALISM - FELONY ($400 &amp; OVER, ALL CHURCH VA...</td>\n",
       "      <td>23</td>\n",
       "      <td>H</td>\n",
       "      <td>122</td>\n",
       "      <td>VEHICLE, PASSENGER/TRUCK</td>\n",
       "      <td></td>\n",
       "      <td></td>\n",
       "      <td>34.2466</td>\n",
       "      <td>-118.4054</td>\n",
       "      <td>2023-01-27</td>\n",
       "      <td>Male</td>\n",
       "    </tr>\n",
       "  </tbody>\n",
       "</table>\n",
       "<p>668881 rows × 14 columns</p>\n",
       "</div>"
      ],
      "text/plain": [
       "            DR_NO    AREA_NAME  Crm_Cd  \\\n",
       "0        10304468    Southwest     624   \n",
       "1       190101086      Central     624   \n",
       "2       200110444      Central     845   \n",
       "3       191501505  N Hollywood     745   \n",
       "4       191921269      Mission     740   \n",
       "...           ...          ...     ...   \n",
       "668876  231405429      Pacific     341   \n",
       "668877  231104474    Northeast     440   \n",
       "668878  230804266      West LA     341   \n",
       "668879  230107318      Central     624   \n",
       "668880  231604807     Foothill     740   \n",
       "\n",
       "                                              Crm_Cd_Desc  Vict_Age  \\\n",
       "0                                BATTERY - SIMPLE ASSAULT        36   \n",
       "1                                BATTERY - SIMPLE ASSAULT        25   \n",
       "2               SEX OFFENDER REGISTRANT OUT OF COMPLIANCE         0   \n",
       "3                VANDALISM - MISDEAMEANOR ($399 OR UNDER)        76   \n",
       "4       VANDALISM - FELONY ($400 & OVER, ALL CHURCH VA...        31   \n",
       "...                                                   ...       ...   \n",
       "668876  THEFT-GRAND ($950.01 & OVER)EXCPT,GUNS,FOWL,LI...         0   \n",
       "668877                 THEFT PLAIN - PETTY ($950 & UNDER)        42   \n",
       "668878  THEFT-GRAND ($950.01 & OVER)EXCPT,GUNS,FOWL,LI...        48   \n",
       "668879                           BATTERY - SIMPLE ASSAULT        58   \n",
       "668880  VANDALISM - FELONY ($400 & OVER, ALL CHURCH VA...        23   \n",
       "\n",
       "       Vict_Descent Premis_Cd                                   Premis_Desc  \\\n",
       "0                 B       501                        SINGLE FAMILY DWELLING   \n",
       "1                 H       102                                      SIDEWALK   \n",
       "2                 X       726                               POLICE FACILITY   \n",
       "3                 W       502  MULTI-UNIT DWELLING (APARTMENT, DUPLEX, ETC)   \n",
       "4                 X       409                           BEAUTY SUPPLY STORE   \n",
       "...             ...       ...                                           ...   \n",
       "668876            X       402                                        MARKET   \n",
       "668877            W       101                                        STREET   \n",
       "668878            O       717                                HEALTH SPA/GYM   \n",
       "668879            W       502  MULTI-UNIT DWELLING (APARTMENT, DUPLEX, ETC)   \n",
       "668880            H       122                      VEHICLE, PASSENGER/TRUCK   \n",
       "\n",
       "       Weapon_Used_Cd                                     Weapon_Desc  \\\n",
       "0                 400  STRONG-ARM (HANDS, FIST, FEET OR BODILY FORCE)   \n",
       "1                 500                     UNKNOWN WEAPON/OTHER WEAPON   \n",
       "2                                                                       \n",
       "3                                                                       \n",
       "4                                                                       \n",
       "...               ...                                             ...   \n",
       "668876                                                                  \n",
       "668877                                                                  \n",
       "668878                                                                  \n",
       "668879            400  STRONG-ARM (HANDS, FIST, FEET OR BODILY FORCE)   \n",
       "668880                                                                  \n",
       "\n",
       "            LAT       LON       time   Gender  \n",
       "0       34.0141 -118.2978 2020-01-08   Female  \n",
       "1       34.0459 -118.2545 2020-01-02     Male  \n",
       "2       34.0448 -118.2474 2020-04-14  UNKNOWN  \n",
       "3       34.1685 -118.4019 2020-01-01   Female  \n",
       "4       34.2198 -118.4468 2020-01-01  UNKNOWN  \n",
       "...         ...       ...        ...      ...  \n",
       "668876  33.9846 -118.4428 2023-02-05  UNKNOWN  \n",
       "668877  34.1214 -118.1915 2023-01-12     Male  \n",
       "668878  34.0611 -118.4184 2023-01-08     Male  \n",
       "668879  34.0453 -118.2499 2023-02-19   Female  \n",
       "668880  34.2466 -118.4054 2023-01-27     Male  \n",
       "\n",
       "[668881 rows x 14 columns]"
      ]
     },
     "execution_count": 54,
     "metadata": {},
     "output_type": "execute_result"
    }
   ],
   "source": [
    "#drops the vict_sex table since we created a fully spelled out version before.\n",
    "df1.drop(['Vict_Sex'], axis=1)"
   ]
  },
  {
   "cell_type": "code",
   "execution_count": 55,
   "id": "9ddd4e17",
   "metadata": {},
   "outputs": [],
   "source": [
    "df1['Weapon_Used_Cd'] = df1.Weapon_Used_Cd.fillna('UNKNOWN/Unused')"
   ]
  },
  {
   "cell_type": "code",
   "execution_count": 57,
   "id": "aebb5962",
   "metadata": {},
   "outputs": [],
   "source": [
    "df1.loc[df['Vict_Descent'] == 'B', 'Race'] = 'Black' \n",
    "df1.loc[df['Vict_Descent'] == 'W', 'Race'] = 'White' \n",
    "df1.loc[df['Vict_Descent'] == 'H', 'Race'] = 'Hispanic' \n",
    "df1.loc[df['Vict_Descent'] == 'O', 'Race'] = 'Other'\n",
    "df1.loc[df['Vict_Descent'] == 'X', 'Race'] = 'UNKNOWN'"
   ]
  },
  {
   "cell_type": "code",
   "execution_count": 59,
   "id": "3ee77609",
   "metadata": {},
   "outputs": [],
   "source": [
    "#drops the AREA column since we created a  converted data type column for AREA called time\n",
    "df2=df1.drop(['Vict_Descent'], axis=1)"
   ]
  },
  {
   "cell_type": "code",
   "execution_count": null,
   "id": "9c4875a3",
   "metadata": {},
   "outputs": [],
   "source": [
    "df2['Age_Demo'] = np.where((df['Revenue']>0.1)& (df['Revenue'] <= 14.99),'below average',\n",
    "                   np.where((df['Revenue'] >= 15)&(df['Revenue'] <= 15.99), 'Average',\n",
    "                   np.where(df['Revenue']>= 16, 'Above Average', 'No Sale')))"
   ]
  },
  {
   "cell_type": "code",
   "execution_count": 128,
   "id": "70d3b279",
   "metadata": {},
   "outputs": [],
   "source": [
    "df2\n",
    "df2.to_csv('MainFile', index = True)"
   ]
  },
  {
   "cell_type": "code",
   "execution_count": 109,
   "id": "083f989f",
   "metadata": {},
   "outputs": [],
   "source": [
    "Most_common_crime_location = df2.groupby(['Premis_Desc'])['DR_NO'].count().nlargest(10).reset_index()\n",
    "\n"
   ]
  },
  {
   "cell_type": "code",
   "execution_count": 126,
   "id": "469eb3ab",
   "metadata": {},
   "outputs": [],
   "source": [
    "#export \n",
    "Most_common_crime_location\n",
    "\n",
    "Most_common_crime_location.to_csv('Most_common_crime_location.csv', index = True)"
   ]
  },
  {
   "cell_type": "code",
   "execution_count": 124,
   "id": "d07f774a",
   "metadata": {},
   "outputs": [
    {
     "data": {
      "image/png": "[encoded data removed]",
      "text/plain": [
       "<Figure size 640x480 with 1 Axes>"
      ]
     },
     "metadata": {},
     "output_type": "display_data"
    }
   ],
   "source": [
    "#most common crime location\n",
    "Most_common_crime_location.plot(x=\"Premis_Desc\", y=['DR_NO'], kind=\"bar\")\n",
    "plt.savefig('Chart1.pdf')"
   ]
  },
  {
   "cell_type": "code",
   "execution_count": 121,
   "id": "064dd093",
   "metadata": {},
   "outputs": [],
   "source": [
    "\n",
    "\n",
    "average_age_of_victm_per_crime = df2.groupby(['Gender'])['Vict_Age'].mean().reset_index()"
   ]
  },
  {
   "cell_type": "code",
   "execution_count": 125,
   "id": "1c3bd286",
   "metadata": {},
   "outputs": [],
   "source": [
    "#export\n",
    "\n",
    "average_age_of_victm_per_crime\n",
    "average_age_of_victm_per_crime.to_csv('average_age_of_victm_per_crime.csv', index = True)"
   ]
  },
  {
   "cell_type": "code",
   "execution_count": 123,
   "id": "cc4474c7",
   "metadata": {},
   "outputs": [
    {
     "data": {
      "image/png": "[encoded data removed]",
      "text/plain": [
       "<Figure size 640x480 with 1 Axes>"
      ]
     },
     "metadata": {},
     "output_type": "display_data"
    }
   ],
   "source": [
    "average_age_of_victm_per_crime.plot(x=\"Gender\", y=['Vict_Age'], kind=\"bar\")\n",
    "plt.savefig('Chart2.pdf')"
   ]
  }
 ],
 "metadata": {
  "kernelspec": {
   "display_name": "Python 3 (ipykernel)",
   "language": "python",
   "name": "python3"
  },
  "language_info": {
   "codemirror_mode": {
    "name": "ipython",
    "version": 3
   },
   "file_extension": ".py",
   "mimetype": "text/x-python",
   "name": "python",
   "nbconvert_exporter": "python",
   "pygments_lexer": "ipython3",
   "version": "3.9.13"
  }
 },
 "nbformat": 4,
 "nbformat_minor": 5
}
